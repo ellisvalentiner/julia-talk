{
 "cells": [
  {
   "cell_type": "code",
   "execution_count": 1,
   "metadata": {
    "collapsed": true
   },
   "outputs": [],
   "source": [
    "using DataFrames\n",
    "using DataFramesMeta\n",
    "using Plots"
   ]
  },
  {
   "cell_type": "code",
   "execution_count": 2,
   "metadata": {},
   "outputs": [
    {
     "data": {
      "text/plain": [
       "detect_on_signals"
      ]
     },
     "execution_count": 2,
     "metadata": {},
     "output_type": "execute_result"
    }
   ],
   "source": [
    "\"\"\"\n",
    "# Detect on signals\n",
    "\n",
    "The FreematicsONE records a '#' in the first column (:x1) when the device turns on.\n",
    "\"\"\"\n",
    "detect_on_signals(x) = contains(string(x), \"#\") ? 0 : x"
   ]
  },
  {
   "cell_type": "code",
   "execution_count": 3,
   "metadata": {
    "collapsed": true
   },
   "outputs": [],
   "source": [
    "# File IO\n",
    "raw = readcsv(\"data/01271255.CSV\", comments=false)\n",
    "data = DataFrame(raw)\n",
    "\n",
    "data[:x1] = detect_on_signals.(data[:x1]);"
   ]
  },
  {
   "cell_type": "code",
   "execution_count": 4,
   "metadata": {
    "collapsed": true
   },
   "outputs": [],
   "source": [
    "data = transform(data,\n",
    "    group = cumsum(data[:x1] .> 0),\n",
    "    on_seconds = cumsum(data[:x1] / 1000),\n",
    "    indicator = data[:x4] .!= \"\");"
   ]
  },
  {
   "cell_type": "code",
   "execution_count": 5,
   "metadata": {
    "collapsed": true
   },
   "outputs": [],
   "source": [
    "# Handle ACC, GYR, and MAG x,y,z\n",
    "data = stack(data, [:x3, :x4, :x5]);"
   ]
  },
  {
   "cell_type": "code",
   "execution_count": 6,
   "metadata": {},
   "outputs": [
    {
     "data": {
      "text/html": [
       "<table class=\"data-frame\"><thead><tr><th></th><th>variable</th><th>value</th><th>x1</th><th>x2</th><th>group</th><th>on_seconds</th><th>indicator</th></tr></thead><tbody><tr><th>1</th><td>x3</td><td>19877</td><td>0</td><td>131</td><td>0</td><td>0.0</td><td>false</td></tr><tr><th>2</th><td>x3</td><td>742</td><td>0</td><td>10C</td><td>0</td><td>0.0</td><td>false</td></tr><tr><th>3</th><td>x3</td><td>1</td><td>0</td><td>10D</td><td>0</td><td>0.0</td><td>false</td></tr><tr><th>4</th><td>x3</td><td>13</td><td>0</td><td>111</td><td>0</td><td>0.0</td><td>false</td></tr><tr><th>5</th><td>x3</td><td>47</td><td>0</td><td>104</td><td>0</td><td>0.0</td><td>false</td></tr><tr><th>6</th><td>x3</td><td>81</td><td>0</td><td>12F</td><td>0</td><td>0.0</td><td>false</td></tr></tbody></table>"
      ],
      "text/plain": [
       "6×7 DataFrames.DataFrame\n",
       "│ Row │ variable │ value │ x1 │ x2    │ group │ on_seconds │ indicator │\n",
       "├─────┼──────────┼───────┼────┼───────┼───────┼────────────┼───────────┤\n",
       "│ 1   │ x3       │ 19877 │ 0  │ \"131\" │ 0     │ 0.0        │ false     │\n",
       "│ 2   │ x3       │ 742   │ 0  │ \"10C\" │ 0     │ 0.0        │ false     │\n",
       "│ 3   │ x3       │ 1     │ 0  │ \"10D\" │ 0     │ 0.0        │ false     │\n",
       "│ 4   │ x3       │ 13    │ 0  │ \"111\" │ 0     │ 0.0        │ false     │\n",
       "│ 5   │ x3       │ 47    │ 0  │ \"104\" │ 0     │ 0.0        │ false     │\n",
       "│ 6   │ x3       │ 81    │ 0  │ \"12F\" │ 0     │ 0.0        │ false     │"
      ]
     },
     "execution_count": 6,
     "metadata": {},
     "output_type": "execute_result"
    }
   ],
   "source": [
    "data[:x2] = string.(data[:x2])\n",
    "head(data)"
   ]
  },
  {
   "cell_type": "code",
   "execution_count": 7,
   "metadata": {
    "collapsed": true
   },
   "outputs": [],
   "source": [
    "# Sort\n",
    "data = @orderby(data, :group, :variable);"
   ]
  },
  {
   "cell_type": "code",
   "execution_count": 8,
   "metadata": {
    "collapsed": true
   },
   "outputs": [],
   "source": [
    "# Filter empty messages\n",
    "data = @where(data, :value .!= \"\");"
   ]
  },
  {
   "cell_type": "code",
   "execution_count": 9,
   "metadata": {
    "collapsed": true
   },
   "outputs": [],
   "source": [
    "# Relabel :variable\n",
    "data[data[:variable] .== :x3, :variable] = \"x\";\n",
    "data[data[:variable] .== :x4, :variable] = \"y\";\n",
    "data[data[:variable] .== :x5, :variable] = \"z\";"
   ]
  },
  {
   "cell_type": "code",
   "execution_count": 10,
   "metadata": {
    "collapsed": true
   },
   "outputs": [],
   "source": [
    "# Rename columns\n",
    "rename!(data, Dict(:x2=>:data_type) );"
   ]
  },
  {
   "cell_type": "code",
   "execution_count": 11,
   "metadata": {
    "collapsed": true
   },
   "outputs": [],
   "source": [
    "# Make unique\n",
    "data[ (data[:variable] .== :x) .& (data[:data_type] .== \"ACC\"), :data_type] = \"ACC_x\"\n",
    "data[ (data[:variable] .== :y) .& (data[:data_type] .== \"ACC\"), :data_type] = \"ACC_y\"\n",
    "data[ (data[:variable] .== :z) .& (data[:data_type] .== \"ACC\"), :data_type] = \"ACC_z\";"
   ]
  },
  {
   "cell_type": "code",
   "execution_count": 12,
   "metadata": {},
   "outputs": [
    {
     "data": {
      "text/plain": [
       "validate_utc"
      ]
     },
     "execution_count": 12,
     "metadata": {},
     "output_type": "execute_result"
    }
   ],
   "source": [
    "\"\"\"\n",
    "Checks whether the GPS time message is valid\n",
    "\"\"\"\n",
    "function validate_utc(msg)\n",
    "    #[!ismatch(r\"^(?:(?:([01]?\\d|2[0-3]))([0-5]?\\d))([0-5]?\\d)(\\d[0])$\", string(i)) for i in msg]\n",
    "    ismatch.(r\"^(?:(?:([01]?\\d|2[0-3]))([0-5]?\\d))([0-5]?\\d)(\\d[0])$\", string.(msg)) |> !\n",
    "end"
   ]
  },
  {
   "cell_type": "code",
   "execution_count": 13,
   "metadata": {
    "collapsed": true
   },
   "outputs": [],
   "source": [
    "# Drop :x1, :variable\n",
    "delete!(data, [:x1, :variable]);"
   ]
  },
  {
   "cell_type": "code",
   "execution_count": 14,
   "metadata": {
    "collapsed": true
   },
   "outputs": [],
   "source": [
    "# Reorder columns\n",
    "data = @select(data, :on_seconds, :group, :data_type, :value);"
   ]
  },
  {
   "cell_type": "code",
   "execution_count": 15,
   "metadata": {
    "collapsed": true
   },
   "outputs": [],
   "source": [
    "# Remove bad GPS data\n",
    "# UTC should be HHMMSSm0\n",
    "bad_utc = @where(data, :data_type .== \"UTC\", validate_utc(:value));"
   ]
  },
  {
   "cell_type": "code",
   "execution_count": 18,
   "metadata": {},
   "outputs": [
    {
     "ename": "LoadError",
     "evalue": "\u001b[91mMethodError: no method matching getindex(::DataFrames.DataFrame, ::DataArrays.DataArray{Any,1}, ::Colon)\u001b[39m",
     "output_type": "error",
     "traceback": [
      "\u001b[91mMethodError: no method matching getindex(::DataFrames.DataFrame, ::DataArrays.DataArray{Any,1}, ::Colon)\u001b[39m",
      "",
      "Stacktrace:",
      " [1] \u001b[1mwhere\u001b[22m\u001b[22m\u001b[1m(\u001b[22m\u001b[22m::DataFrames.DataFrame, ::##39#42\u001b[1m)\u001b[22m\u001b[22m at \u001b[1m/Users/ellisvalentiner/.julia/v0.6/DataFramesMeta/src/DataFramesMeta.jl:194\u001b[22m\u001b[22m"
     ]
    }
   ],
   "source": [
    "@where(data, x=:data_type .== \"LAT\", y= :value .< 0)"
   ]
  },
  {
   "cell_type": "code",
   "execution_count": 51,
   "metadata": {},
   "outputs": [
    {
     "ename": "LoadError",
     "evalue": "\u001b[91mMethodError: no method matching getindex(::DataFrames.DataFrame, ::DataArrays.DataArray{Any,1}, ::Colon)\u001b[39m",
     "output_type": "error",
     "traceback": [
      "\u001b[91mMethodError: no method matching getindex(::DataFrames.DataFrame, ::DataArrays.DataArray{Any,1}, ::Colon)\u001b[39m",
      "",
      "Stacktrace:",
      " [1] \u001b[1mwhere\u001b[22m\u001b[22m\u001b[1m(\u001b[22m\u001b[22m::DataFrames.DataFrame, ::##200#202\u001b[1m)\u001b[22m\u001b[22m at \u001b[1m/Users/ellisvalentiner/.julia/v0.6/DataFramesMeta/src/DataFramesMeta.jl:194\u001b[22m\u001b[22m"
     ]
    }
   ],
   "source": [
    "bad_gps = @where(data, :data_type .== \"LAT\", isless.(0, :value))\n",
    "# @where(bad_gps, :value .> 0)"
   ]
  },
  {
   "cell_type": "code",
   "execution_count": 32,
   "metadata": {},
   "outputs": [
    {
     "ename": "LoadError",
     "evalue": "\u001b[91mUndefVarError: bad_gps not defined\u001b[39m",
     "output_type": "error",
     "traceback": [
      "\u001b[91mUndefVarError: bad_gps not defined\u001b[39m",
      ""
     ]
    }
   ],
   "source": [
    "data = join(data, bad_gps, on = :group, kind = :anti)"
   ]
  },
  {
   "cell_type": "code",
   "execution_count": 52,
   "metadata": {},
   "outputs": [
    {
     "name": "stderr",
     "output_type": "stream",
     "text": [
      "julia(84696,0x110b763c0) malloc: *** mach_vm_map(size=261027979591684096) failed (error code=3)\n",
      "*** error: can't allocate region\n",
      "*** set a breakpoint in malloc_error_break to debug\n"
     ]
    },
    {
     "ename": "LoadError",
     "evalue": "\u001b[91mOutOfMemoryError()\u001b[39m",
     "output_type": "error",
     "traceback": [
      "\u001b[91mOutOfMemoryError()\u001b[39m",
      "",
      "Stacktrace:",
      " [1] \u001b[1mgroupsort_indexer\u001b[22m\u001b[22m\u001b[1m(\u001b[22m\u001b[22m::Array{Int64,1}, ::Int64, ::Bool\u001b[1m)\u001b[22m\u001b[22m at \u001b[1m/Users/ellisvalentiner/.julia/v0.6/DataArrays/src/grouping.jl:7\u001b[22m\u001b[22m",
      " [2] \u001b[1mgroupsort_indexer\u001b[22m\u001b[22m\u001b[1m(\u001b[22m\u001b[22m::Array{Int64,1}, ::Int64\u001b[1m)\u001b[22m\u001b[22m at \u001b[1m/Users/ellisvalentiner/.julia/v0.6/DataArrays/src/grouping.jl:5\u001b[22m\u001b[22m",
      " [3] \u001b[1mgroupby\u001b[22m\u001b[22m\u001b[1m(\u001b[22m\u001b[22m::DataFrames.DataFrame, ::Array{Symbol,1}\u001b[1m)\u001b[22m\u001b[22m at \u001b[1m/Users/ellisvalentiner/.julia/v0.6/DataFrames/src/groupeddataframe/grouping.jl:109\u001b[22m\u001b[22m",
      " [4] \u001b[1munstack\u001b[22m\u001b[22m\u001b[1m(\u001b[22m\u001b[22m::DataFrames.DataFrame, ::Int64, ::Int64\u001b[1m)\u001b[22m\u001b[22m at \u001b[1m/Users/ellisvalentiner/.julia/v0.6/DataFrames/src/abstractdataframe/reshape.jl:197\u001b[22m\u001b[22m",
      " [5] \u001b[1munstack\u001b[22m\u001b[22m\u001b[1m(\u001b[22m\u001b[22m::DataFrames.DataFrame, ::Symbol, ::Symbol\u001b[1m)\u001b[22m\u001b[22m at \u001b[1m/Users/ellisvalentiner/.julia/v0.6/DataFrames/src/abstractdataframe/reshape.jl:192\u001b[22m\u001b[22m"
     ]
    }
   ],
   "source": [
    "# Find the reference time\n",
    "ref_time = @where(data, :data_type .== \"UTC\")[1,:] |> x->@select(x, :value)\n",
    "ref_offset = @where(data, :data_type .== \"UTC\")[1,:] |> x->@select(x, :on_seconds)\n",
    "data = @transform(data, relative_offset = :on_seconds - ref_offset[1,1])\n",
    "data = @transform(data, real_time = :relative_offset*100 + ref_time[1,1])\n",
    "unstack(data, :data_type, :value)"
   ]
  },
  {
   "cell_type": "code",
   "execution_count": 19,
   "metadata": {},
   "outputs": [
    {
     "ename": "LoadError",
     "evalue": "\u001b[91mUndefVarError: wide_data not defined\u001b[39m",
     "output_type": "error",
     "traceback": [
      "\u001b[91mUndefVarError: wide_data not defined\u001b[39m",
      ""
     ]
    }
   ],
   "source": [
    "# wide_data = unstack(data, :group, :data_type, :value)\n",
    "head(wide_data)"
   ]
  },
  {
   "cell_type": "code",
   "execution_count": 20,
   "metadata": {},
   "outputs": [
    {
     "data": {
      "text/html": [
       "<table class=\"data-frame\"><thead><tr><th></th><th>on_seconds</th><th>group</th><th>data_type</th><th>value</th></tr></thead><tbody><tr><th>1</th><td>0.0</td><td>0</td><td>131</td><td>19877</td></tr><tr><th>2</th><td>0.0</td><td>0</td><td>10C</td><td>742</td></tr><tr><th>3</th><td>0.0</td><td>0</td><td>10D</td><td>1</td></tr><tr><th>4</th><td>0.0</td><td>0</td><td>111</td><td>13</td></tr><tr><th>5</th><td>0.0</td><td>0</td><td>104</td><td>47</td></tr><tr><th>6</th><td>0.0</td><td>0</td><td>12F</td><td>81</td></tr><tr><th>7</th><td>0.557</td><td>1</td><td>24</td><td>1460</td></tr><tr><th>8</th><td>0.557</td><td>1</td><td>20</td><td>-9</td></tr><tr><th>9</th><td>0.557</td><td>1</td><td>20</td><td>1</td></tr><tr><th>10</th><td>0.557</td><td>1</td><td>20</td><td>-97</td></tr><tr><th>11</th><td>0.796</td><td>2</td><td>105</td><td>84</td></tr><tr><th>12</th><td>0.796</td><td>2</td><td>10C</td><td>756</td></tr><tr><th>13</th><td>0.796</td><td>2</td><td>10D</td><td>3</td></tr><tr><th>14</th><td>0.796</td><td>2</td><td>111</td><td>13</td></tr><tr><th>15</th><td>0.796</td><td>2</td><td>104</td><td>47</td></tr><tr><th>16</th><td>0.796</td><td>2</td><td>12F</td><td>88</td></tr><tr><th>17</th><td>0.812</td><td>3</td><td>24</td><td>1460</td></tr><tr><th>18</th><td>0.812</td><td>3</td><td>20</td><td>-9</td></tr><tr><th>19</th><td>0.812</td><td>3</td><td>20</td><td>1</td></tr><tr><th>20</th><td>0.812</td><td>3</td><td>20</td><td>-97</td></tr><tr><th>21</th><td>1.0510000000000002</td><td>4</td><td>10F</td><td>12</td></tr><tr><th>22</th><td>1.0510000000000002</td><td>4</td><td>10C</td><td>756</td></tr><tr><th>23</th><td>1.0510000000000002</td><td>4</td><td>10D</td><td>3</td></tr><tr><th>24</th><td>1.0510000000000002</td><td>4</td><td>111</td><td>13</td></tr><tr><th>25</th><td>1.0510000000000002</td><td>4</td><td>104</td><td>47</td></tr><tr><th>26</th><td>1.0510000000000002</td><td>4</td><td>12F</td><td>87</td></tr><tr><th>27</th><td>1.0670000000000002</td><td>5</td><td>24</td><td>1470</td></tr><tr><th>28</th><td>1.0670000000000002</td><td>5</td><td>20</td><td>-8</td></tr><tr><th>29</th><td>1.0670000000000002</td><td>5</td><td>20</td><td>1</td></tr><tr><th>30</th><td>1.0670000000000002</td><td>5</td><td>20</td><td>-97</td></tr><tr><th>&vellip;</th><td>&vellip;</td><td>&vellip;</td><td>&vellip;</td><td>&vellip;</td></tr></tbody></table>"
      ],
      "text/plain": [
       "471×4 DataFrames.DataFrame\n",
       "│ Row │ on_seconds │ group │ data_type │ value     │\n",
       "├─────┼────────────┼───────┼───────────┼───────────┤\n",
       "│ 1   │ 0.0        │ 0     │ \"131\"     │ 19877     │\n",
       "│ 2   │ 0.0        │ 0     │ \"10C\"     │ 742       │\n",
       "│ 3   │ 0.0        │ 0     │ \"10D\"     │ 1         │\n",
       "│ 4   │ 0.0        │ 0     │ \"111\"     │ 13        │\n",
       "│ 5   │ 0.0        │ 0     │ \"104\"     │ 47        │\n",
       "│ 6   │ 0.0        │ 0     │ \"12F\"     │ 81        │\n",
       "│ 7   │ 0.557      │ 1     │ \"24\"      │ 1460      │\n",
       "│ 8   │ 0.557      │ 1     │ \"20\"      │ -9        │\n",
       "│ 9   │ 0.557      │ 1     │ \"20\"      │ 1         │\n",
       "│ 10  │ 0.557      │ 1     │ \"20\"      │ -97       │\n",
       "│ 11  │ 0.796      │ 2     │ \"105\"     │ 84        │\n",
       "⋮\n",
       "│ 460 │ 11.822     │ 90    │ \"D\"       │ 2         │\n",
       "│ 461 │ 11.822     │ 90    │ \"F\"       │ 6         │\n",
       "│ 462 │ 12.272     │ 91    │ \"24\"      │ 1270      │\n",
       "│ 463 │ 12.272     │ 91    │ \"20\"      │ -7        │\n",
       "│ 464 │ 12.272     │ 91    │ \"20\"      │ 2         │\n",
       "│ 465 │ 12.272     │ 91    │ \"20\"      │ -97       │\n",
       "│ 466 │ 12.288     │ 92    │ \"10\"      │ 12594770  │\n",
       "│ 467 │ 12.288     │ 92    │ \"A\"       │ 42284538  │\n",
       "│ 468 │ 12.288     │ 92    │ \"B\"       │ -83808707 │\n",
       "│ 469 │ 12.288     │ 92    │ \"C\"       │ 300       │\n",
       "│ 470 │ 12.288     │ 92    │ \"D\"       │ 1         │\n",
       "│ 471 │ 12.288     │ 92    │ \"F\"       │ 6         │"
      ]
     },
     "execution_count": 20,
     "metadata": {},
     "output_type": "execute_result"
    }
   ],
   "source": [
    "data"
   ]
  },
  {
   "cell_type": "code",
   "execution_count": null,
   "metadata": {
    "collapsed": true
   },
   "outputs": [],
   "source": [
    "Plots.plot(x=wide_data[:UTC], y=wide_data[:SPD])"
   ]
  },
  {
   "cell_type": "code",
   "execution_count": null,
   "metadata": {
    "collapsed": true
   },
   "outputs": [],
   "source": []
  },
  {
   "cell_type": "code",
   "execution_count": 25,
   "metadata": {},
   "outputs": [
    {
     "data": {
      "text/html": [
       "<table class=\"data-frame\"><thead><tr><th></th><th>on_seconds</th><th>group</th><th>data_type</th><th>value</th></tr></thead><tbody><tr><th>1</th><td>3.218</td><td>2</td><td>UTC</td><td>16141220</td></tr><tr><th>2</th><td>3.348</td><td>4</td><td>UTC</td><td>16141230</td></tr><tr><th>3</th><td>3.4789999999999996</td><td>6</td><td>UTC</td><td>16141240</td></tr><tr><th>4</th><td>3.6679999999999997</td><td>9</td><td>UTC</td><td>16141260</td></tr><tr><th>5</th><td>3.8</td><td>11</td><td>UTC</td><td>16141270</td></tr><tr><th>6</th><td>3.9699999999999998</td><td>13</td><td>UTC</td><td>16141290</td></tr><tr><th>7</th><td>4.19</td><td>15</td><td>UTC</td><td>16141310</td></tr><tr><th>8</th><td>4.3500000000000005</td><td>17</td><td>UTC</td><td>16141330</td></tr><tr><th>9</th><td>4.489000000000001</td><td>19</td><td>UTC</td><td>16141340</td></tr><tr><th>10</th><td>4.648000000000001</td><td>22</td><td>UTC</td><td>16141360</td></tr><tr><th>11</th><td>4.8100000000000005</td><td>24</td><td>UTC</td><td>16141370</td></tr><tr><th>12</th><td>4.94</td><td>26</td><td>UTC</td><td>16141390</td></tr><tr><th>13</th><td>5.07</td><td>28</td><td>UTC</td><td>16141400</td></tr><tr><th>14</th><td>5.3100000000000005</td><td>30</td><td>UTC</td><td>16141430</td></tr><tr><th>15</th><td>5.478000000000001</td><td>32</td><td>UTC</td><td>16141440</td></tr><tr><th>16</th><td>5.638</td><td>35</td><td>UTC</td><td>16141460</td></tr><tr><th>17</th><td>5.792</td><td>37</td><td>UTC</td><td>16141470</td></tr><tr><th>18</th><td>5.93</td><td>39</td><td>UTC</td><td>16141490</td></tr><tr><th>19</th><td>6.0600000000000005</td><td>41</td><td>UTC</td><td>16141500</td></tr><tr><th>20</th><td>6.280000000000001</td><td>43</td><td>UTC</td><td>16141520</td></tr><tr><th>21</th><td>6.440000000000001</td><td>45</td><td>UTC</td><td>16141540</td></tr><tr><th>22</th><td>6.570000000000002</td><td>47</td><td>UTC</td><td>16141550</td></tr><tr><th>23</th><td>6.738000000000001</td><td>50</td><td>UTC</td><td>16141570</td></tr><tr><th>24</th><td>6.8900000000000015</td><td>52</td><td>UTC</td><td>16141580</td></tr><tr><th>25</th><td>7.060000000000001</td><td>54</td><td>UTC</td><td>16141600</td></tr><tr><th>26</th><td>7.280000000000001</td><td>56</td><td>UTC</td><td>16141620</td></tr><tr><th>27</th><td>7.441000000000001</td><td>58</td><td>UTC</td><td>16141640</td></tr><tr><th>28</th><td>7.581</td><td>60</td><td>UTC</td><td>16141650</td></tr><tr><th>29</th><td>7.7490000000000006</td><td>63</td><td>UTC</td><td>16141670</td></tr><tr><th>30</th><td>7.880000000000001</td><td>65</td><td>UTC</td><td>16141680</td></tr><tr><th>&vellip;</th><td>&vellip;</td><td>&vellip;</td><td>&vellip;</td><td>&vellip;</td></tr></tbody></table>"
      ],
      "text/plain": [
       "6234×4 DataFrames.DataFrame\n",
       "│ Row  │ on_seconds │ group │ data_type │ value    │\n",
       "├──────┼────────────┼───────┼───────────┼──────────┤\n",
       "│ 1    │ 3.218      │ 2     │ \"UTC\"     │ 16141220 │\n",
       "│ 2    │ 3.348      │ 4     │ \"UTC\"     │ 16141230 │\n",
       "│ 3    │ 3.479      │ 6     │ \"UTC\"     │ 16141240 │\n",
       "│ 4    │ 3.668      │ 9     │ \"UTC\"     │ 16141260 │\n",
       "│ 5    │ 3.8        │ 11    │ \"UTC\"     │ 16141270 │\n",
       "│ 6    │ 3.97       │ 13    │ \"UTC\"     │ 16141290 │\n",
       "│ 7    │ 4.19       │ 15    │ \"UTC\"     │ 16141310 │\n",
       "│ 8    │ 4.35       │ 17    │ \"UTC\"     │ 16141330 │\n",
       "│ 9    │ 4.489      │ 19    │ \"UTC\"     │ 16141340 │\n",
       "│ 10   │ 4.648      │ 22    │ \"UTC\"     │ 16141360 │\n",
       "│ 11   │ 4.81       │ 24    │ \"UTC\"     │ 16141370 │\n",
       "⋮\n",
       "│ 6223 │ 997.193    │ 13418 │ \"UTC\"     │ 16304620 │\n",
       "│ 6224 │ 997.323    │ 13420 │ \"UTC\"     │ 16304630 │\n",
       "│ 6225 │ 997.476    │ 13422 │ \"UTC\"     │ 16304640 │\n",
       "│ 6226 │ 997.692    │ 13424 │ \"UTC\"     │ 16304670 │\n",
       "│ 6227 │ 997.822    │ 13426 │ \"UTC\"     │ 16304680 │\n",
       "│ 6228 │ 997.981    │ 13429 │ \"UTC\"     │ 16304690 │\n",
       "│ 6229 │ 998.132    │ 13431 │ \"UTC\"     │ 16304710 │\n",
       "│ 6230 │ 998.262    │ 13433 │ \"UTC\"     │ 16304720 │\n",
       "│ 6231 │ 998.393    │ 13435 │ \"UTC\"     │ 16304740 │\n",
       "│ 6232 │ 998.545    │ 13437 │ \"UTC\"     │ 16304750 │\n",
       "│ 6233 │ 998.787    │ 13438 │ \"UTC\"     │ 16304780 │\n",
       "│ 6234 │ 999.15     │ 13439 │ \"UTC\"     │ 16304800 │"
      ]
     },
     "execution_count": 25,
     "metadata": {},
     "output_type": "execute_result"
    },
    {
     "name": "stderr",
     "output_type": "stream",
     "text": [
      "WARNING: both GR and Plots export \"colormap\"; uses of it in module Main must be qualified\n",
      "WARNING: both GR and Plots export \"contour\"; uses of it in module Main must be qualified\n",
      "WARNING: both GR and Plots export \"contourf\"; uses of it in module Main must be qualified\n",
      "WARNING: both GR and Plots export \"grid\"; uses of it in module Main must be qualified\n",
      "WARNING: both GR and Plots export \"heatmap\"; uses of it in module Main must be qualified\n",
      "WARNING: both GR and Plots export \"hexbin\"; uses of it in module Main must be qualified\n",
      "WARNING: both GR and Plots export \"histogram\"; uses of it in module Main must be qualified\n",
      "WARNING: both GR and Plots export \"inline\"; uses of it in module Main must be qualified\n",
      "WARNING: both GR and Plots export \"plot\"; uses of it in module Main must be qualified\n",
      "WARNING: both GR and Plots export \"quiver\"; uses of it in module Main must be qualified\n",
      "WARNING: both GR and Plots export \"savefig\"; uses of it in module Main must be qualified\n",
      "WARNING: both GR and Plots export \"scatter\"; uses of it in module Main must be qualified\n",
      "WARNING: both GR and Plots export \"surface\"; uses of it in module Main must be qualified\n",
      "WARNING: both GR and Plots export \"text\"; uses of it in module Main must be qualified\n",
      "WARNING: both GR and Plots export \"wireframe\"; uses of it in module Main must be qualified\n"
     ]
    }
   ],
   "source": [
    "q = @from i in data begin\n",
    "    if i.data_type == \"UTC\"\n",
    "        @where i.data_type == \"UTC\"\n",
    "    end\n",
    "    @collect DataFrame\n",
    "    end"
   ]
  }
 ],
 "metadata": {
  "kernelspec": {
   "display_name": "Julia 0.6.0",
   "language": "julia",
   "name": "julia-0.6"
  },
  "language_info": {
   "file_extension": ".jl",
   "mimetype": "application/julia",
   "name": "julia",
   "version": "0.6.0"
  }
 },
 "nbformat": 4,
 "nbformat_minor": 2
}
